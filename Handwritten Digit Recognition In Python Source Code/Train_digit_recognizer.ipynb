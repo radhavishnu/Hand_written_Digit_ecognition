{
 "cells": [
  {
   "cell_type": "code",
   "execution_count": 8,
   "id": "573b559e",
   "metadata": {},
   "outputs": [],
   "source": [
    "import keras\n",
    "from keras.datasets import mnist\n",
    "from keras.models import Sequential\n",
    "from keras.layers import Dense, Dropout, Flatten\n",
    "from keras.layers import Conv2D, MaxPooling2D\n",
    "from keras import backend as K\n",
    "import tensorflow as tf\n"
   ]
  },
  {
   "cell_type": "code",
   "execution_count": 9,
   "id": "726d00bd",
   "metadata": {},
   "outputs": [],
   "source": [
    "from keras.utils import np_utils"
   ]
  },
  {
   "cell_type": "code",
   "execution_count": 10,
   "id": "0b843ab0",
   "metadata": {},
   "outputs": [
    {
     "name": "stdout",
     "output_type": "stream",
     "text": [
      "(60000, 28, 28) (60000,)\n"
     ]
    }
   ],
   "source": [
    "# the data, split between train and test sets\n",
    "(x_train, y_train), (x_test, y_test) = mnist.load_data()\n",
    "\n",
    "print(x_train.shape, y_train.shape)\n",
    "\n"
   ]
  },
  {
   "cell_type": "code",
   "execution_count": 11,
   "id": "46b76316",
   "metadata": {},
   "outputs": [
    {
     "name": "stdout",
     "output_type": "stream",
     "text": [
      "x_train shape: (60000, 28, 28, 1)\n",
      "60000 train samples\n",
      "10000 test samples\n"
     ]
    }
   ],
   "source": [
    "x_train = x_train.reshape(x_train.shape[0], 28, 28, 1)\n",
    "x_test = x_test.reshape(x_test.shape[0], 28, 28, 1)\n",
    "input_shape = (28, 28, 1)\n",
    "\n",
    "# convert class vectors to binary class matrices\n",
    "y_train = keras.utils.np_utils.to_categorical(y_train, 10)\n",
    "y_test = keras.utils.np_utils.to_categorical(y_test, 10)\n",
    "\n",
    "x_train = x_train.astype('float32')\n",
    "x_test = x_test.astype('float32')\n",
    "x_train /= 255\n",
    "x_test /= 255\n",
    "print('x_train shape:', x_train.shape)\n",
    "print(x_train.shape[0], 'train samples')\n",
    "print(x_test.shape[0], 'test samples')\n",
    "\n",
    "\n"
   ]
  },
  {
   "cell_type": "code",
   "execution_count": 12,
   "id": "8c5fb60a",
   "metadata": {},
   "outputs": [
    {
     "name": "stdout",
     "output_type": "stream",
     "text": [
      "Epoch 1/10\n",
      "469/469 [==============================] - 26s 55ms/step - loss: 2.3052 - accuracy: 0.1058 - val_loss: 2.2901 - val_accuracy: 0.0999\n",
      "Epoch 2/10\n",
      "469/469 [==============================] - 28s 61ms/step - loss: 2.2877 - accuracy: 0.1326 - val_loss: 2.2728 - val_accuracy: 0.1710\n",
      "Epoch 3/10\n",
      "469/469 [==============================] - 29s 63ms/step - loss: 2.2712 - accuracy: 0.1629 - val_loss: 2.2550 - val_accuracy: 0.2666\n",
      "Epoch 4/10\n",
      "469/469 [==============================] - 30s 65ms/step - loss: 2.2557 - accuracy: 0.1956 - val_loss: 2.2360 - val_accuracy: 0.3610\n",
      "Epoch 5/10\n",
      "469/469 [==============================] - 29s 62ms/step - loss: 2.2392 - accuracy: 0.2208 - val_loss: 2.2158 - val_accuracy: 0.4239\n",
      "Epoch 6/10\n",
      "469/469 [==============================] - 30s 65ms/step - loss: 2.2209 - accuracy: 0.2436 - val_loss: 2.1939 - val_accuracy: 0.4679\n",
      "Epoch 7/10\n",
      "469/469 [==============================] - 30s 65ms/step - loss: 2.2030 - accuracy: 0.2616 - val_loss: 2.1703 - val_accuracy: 0.4989\n",
      "Epoch 8/10\n",
      "469/469 [==============================] - 31s 65ms/step - loss: 2.1823 - accuracy: 0.2830 - val_loss: 2.1446 - val_accuracy: 0.5236\n",
      "Epoch 9/10\n",
      "469/469 [==============================] - 34s 72ms/step - loss: 2.1613 - accuracy: 0.2965 - val_loss: 2.1166 - val_accuracy: 0.5460\n",
      "Epoch 10/10\n",
      "469/469 [==============================] - 32s 68ms/step - loss: 2.1360 - accuracy: 0.3141 - val_loss: 2.0856 - val_accuracy: 0.5680\n",
      "The model has successfully trained\n"
     ]
    }
   ],
   "source": [
    "batch_size = 128\n",
    "num_classes = 10\n",
    "epochs = 10\n",
    "\n",
    "model = Sequential()\n",
    "model.add(Conv2D(32, kernel_size=(5, 5),activation='relu',input_shape=input_shape))\n",
    "model.add(MaxPooling2D(pool_size=(2, 2)))\n",
    "model.add(Conv2D(64, (3, 3), activation='relu'))\n",
    "model.add(MaxPooling2D(pool_size=(2, 2)))\n",
    "model.add(Flatten())\n",
    "model.add(Dense(128, activation='relu'))\n",
    "model.add(Dropout(0.3))\n",
    "model.add(Dense(64, activation='relu'))\n",
    "model.add(Dropout(0.5))\n",
    "model.add(Dense(num_classes, activation='softmax'))\n",
    "\n",
    "model.compile(loss=keras.losses.categorical_crossentropy,optimizer=tf.keras.optimizers.Adadelta(),metrics=['accuracy'])\n",
    "#model.compile(optimizer='adam',loss='sparse_categorical_crossentropy',metrics=['accuracy'])\n",
    "\n",
    "hist = model.fit(x_train, y_train,batch_size=batch_size,epochs=epochs,verbose=1,validation_data=(x_test, y_test))\n",
    "#model.fit(x_train, y_train, epochs=10)\n",
    "print(\"The model has successfully trained\")\n",
    "\n"
   ]
  },
  {
   "cell_type": "code",
   "execution_count": 13,
   "id": "5bcf2933",
   "metadata": {},
   "outputs": [
    {
     "name": "stdout",
     "output_type": "stream",
     "text": [
      "Test loss: 2.085576057434082\n",
      "Test accuracy: 0.5680000185966492\n",
      "Saving the model as mnist.h5\n"
     ]
    }
   ],
   "source": [
    "score = model.evaluate(x_test, y_test, verbose=0)\n",
    "print('Test loss:', score[0])\n",
    "print('Test accuracy:', score[1])\n",
    "\n",
    "model.save('mnist.h5')\n",
    "print(\"Saving the model as mnist.h5\")"
   ]
  },
  {
   "cell_type": "code",
   "execution_count": null,
   "id": "9810486f",
   "metadata": {},
   "outputs": [],
   "source": []
  }
 ],
 "metadata": {
  "kernelspec": {
   "display_name": "Python 3 (ipykernel)",
   "language": "python",
   "name": "python3"
  },
  "language_info": {
   "codemirror_mode": {
    "name": "ipython",
    "version": 3
   },
   "file_extension": ".py",
   "mimetype": "text/x-python",
   "name": "python",
   "nbconvert_exporter": "python",
   "pygments_lexer": "ipython3",
   "version": "3.9.7"
  }
 },
 "nbformat": 4,
 "nbformat_minor": 5
}
